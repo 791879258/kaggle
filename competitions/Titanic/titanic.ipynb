{
 "cells": [
  {
   "cell_type": "markdown",
   "metadata": {},
   "source": [
    "## Titanic 沉没\n",
    "\n",
    "这是一个分类任务，特征包含离散特征和连续特征，数据如下：[Kaggle地址](https://www.kaggle.com/c/titanic/data)。目标是根据数据特征预测一个人是否能在泰坦尼克的沉没事故中存活下来。接下来解释下数据的格式：\n",
    "\n",
    "```\n",
    "survival        目标列，是否存活，1代表存活 (0 = No; 1 = Yes)  \n",
    "pclass          乘坐的舱位级别 (1 = 1st; 2 = 2nd; 3 = 3rd)  \n",
    "name            姓名 \n",
    "sex             性别  \n",
    "age             年龄  \n",
    "sibsp           兄弟姐妹的数量（乘客中）  \n",
    "parch           父母的数量（乘客中）  \n",
    "ticket          票号  \n",
    "fare            票价  \n",
    "cabin           客舱  \n",
    "embarked        登船的港口  \n",
    "                (C = Cherbourg; Q = Queenstown; S = Southampton)\n",
    "```"
   ]
  },
  {
   "cell_type": "markdown",
   "metadata": {
    "collapsed": true
   },
   "source": [
    "## 载入数据并分析"
   ]
  },
  {
   "cell_type": "code",
   "execution_count": 1,
   "metadata": {
    "collapsed": false
   },
   "outputs": [],
   "source": [
    "# -*- coding: UTF-8 -*-\n",
    "%matplotlib inline\n",
    "\n",
    "import pandas as pd\n",
    "import string\n",
    "import numpy as np\n",
    "import matplotlib.pyplot as plt\n",
    "from sklearn import preprocessing"
   ]
  },
  {
   "cell_type": "code",
   "execution_count": 2,
   "metadata": {
    "collapsed": true
   },
   "outputs": [],
   "source": [
    "train = pd.read_csv('train.csv')\n",
    "test = pd.read_csv('test.csv')\n",
    "\n",
    "def substrings_in_string(big_string, substrings):\n",
    "    for substring in substrings:\n",
    "        if string.find(big_string, substring) != -1:\n",
    "            return substring\n",
    "    return np.nan\n",
    "\n",
    "def replace_titles(x):\n",
    "    title=x['Title']\n",
    "    if title in ['Mr','Don', 'Major', 'Capt', 'Jonkheer', 'Rev', 'Col']:\n",
    "        return 'Mr'\n",
    "    elif title in ['Master']:\n",
    "        return 'Master'\n",
    "    elif title in ['Countess', 'Mme','Mrs']:\n",
    "        return 'Mrs'\n",
    "    elif title in ['Mlle', 'Ms','Miss']:\n",
    "        return 'Miss'\n",
    "    elif title =='Dr':\n",
    "        if x['Sex']=='Male':\n",
    "            return 'Mr'\n",
    "        else:\n",
    "            return 'Mrs'\n",
    "    elif title =='':\n",
    "        if x['Sex']=='Male':\n",
    "            return 'Master'\n",
    "        else:\n",
    "            return 'Miss'\n",
    "    else:\n",
    "        return title\n",
    "\n",
    "title_list = ['Mrs', 'Mr', 'Master', 'Miss', 'Major', 'Rev',\n",
    "                'Dr', 'Ms', 'Mlle','Col', 'Capt', 'Mme', 'Countess',\n",
    "                'Don', 'Jonkheer']"
   ]
  },
  {
   "cell_type": "code",
   "execution_count": 3,
   "metadata": {
    "collapsed": false,
    "scrolled": false
   },
   "outputs": [],
   "source": [
    "label = train['Survived'] # 目标列"
   ]
  },
  {
   "cell_type": "markdown",
   "metadata": {},
   "source": [
    "### Pclass、Sex、Embarked离散特征数据预览\n",
    "除此之外Name、Ticket、Cabin也是离散特征，我们暂时不用这几个特征，直观上来讲，叫什么名字跟在事故中是否存活好像没有太大的联系。"
   ]
  },
  {
   "cell_type": "code",
   "execution_count": 4,
   "metadata": {
    "collapsed": false
   },
   "outputs": [
    {
     "data": {
      "text/plain": [
       "<matplotlib.axes.AxesSubplot at 0x102bef590>"
      ]
     },
     "execution_count": 4,
     "metadata": {},
     "output_type": "execute_result"
    },
    {
     "data": {
      "image/png": "[encoded data removed]",
      "text/plain": [
       "<matplotlib.figure.Figure at 0x1068058d0>"
      ]
     },
     "metadata": {},
     "output_type": "display_data"
    }
   ],
   "source": [
    "# 接下来我们对每个特征进行一下分析：\n",
    "train.groupby(['Pclass'])['PassengerId'].count().plot(kind='bar')"
   ]
  },
  {
   "cell_type": "code",
   "execution_count": 5,
   "metadata": {
    "collapsed": false
   },
   "outputs": [
    {
     "data": {
      "text/plain": [
       "<matplotlib.axes.AxesSubplot at 0x106c41a10>"
      ]
     },
     "execution_count": 5,
     "metadata": {},
     "output_type": "execute_result"
    },
    {
     "data": {
      "image/png": "[encoded data removed]",
      "text/plain": [
       "<matplotlib.figure.Figure at 0x106805910>"
      ]
     },
     "metadata": {},
     "output_type": "display_data"
    }
   ],
   "source": [
    "train.groupby(['SibSp'])['PassengerId'].count().plot(kind='bar')"
   ]
  },
  {
   "cell_type": "code",
   "execution_count": 6,
   "metadata": {
    "collapsed": false
   },
   "outputs": [
    {
     "data": {
      "text/plain": [
       "<matplotlib.axes.AxesSubplot at 0x106d7b090>"
      ]
     },
     "execution_count": 6,
     "metadata": {},
     "output_type": "execute_result"
    },
    {
     "data": {
      "image/png": "[encoded data removed]",
      "text/plain": [
       "<matplotlib.figure.Figure at 0x106d96550>"
      ]
     },
     "metadata": {},
     "output_type": "display_data"
    }
   ],
   "source": [
    "train.groupby(['Parch'])['PassengerId'].count().plot(kind='bar')"
   ]
  },
  {
   "cell_type": "code",
   "execution_count": 7,
   "metadata": {
    "collapsed": false
   },
   "outputs": [
    {
     "data": {
      "text/plain": [
       "<matplotlib.axes.AxesSubplot at 0x106eca590>"
      ]
     },
     "execution_count": 7,
     "metadata": {},
     "output_type": "execute_result"
    },
    {
     "data": {
      "image/png": "[encoded data removed]",
      "text/plain": [
       "<matplotlib.figure.Figure at 0x106c16050>"
      ]
     },
     "metadata": {},
     "output_type": "display_data"
    }
   ],
   "source": [
    "train.groupby(['Embarked'])['PassengerId'].count().plot(kind='bar')"
   ]
  },
  {
   "cell_type": "code",
   "execution_count": 8,
   "metadata": {
    "collapsed": false,
    "scrolled": false
   },
   "outputs": [
    {
     "data": {
      "text/plain": [
       "<matplotlib.axes.AxesSubplot at 0x106ff83d0>"
      ]
     },
     "execution_count": 8,
     "metadata": {},
     "output_type": "execute_result"
    },
    {
     "data": {
      "image/png": "[encoded data removed]",
      "text/plain": [
       "<matplotlib.figure.Figure at 0x106edfb10>"
      ]
     },
     "metadata": {},
     "output_type": "display_data"
    }
   ],
   "source": [
    "train.groupby(['Sex'])['PassengerId'].count().plot(kind='bar')"
   ]
  },
  {
   "cell_type": "markdown",
   "metadata": {},
   "source": [
    "### 连续特征处理\n",
    "Age、Fare是连续特征，观察数据分布查看是否有缺失值和异常值，我们看到Age中存在缺失值，我们考虑使用均值来填充缺失值。"
   ]
  },
  {
   "cell_type": "code",
   "execution_count": 9,
   "metadata": {
    "collapsed": false
   },
   "outputs": [
    {
     "name": "stdout",
     "output_type": "stream",
     "text": [
      "检测是否有缺失值：\n",
      "5    NaN\n",
      "17   NaN\n",
      "19   NaN\n",
      "26   NaN\n",
      "28   NaN\n",
      "Name: Age, dtype: float64\n",
      "Series([], Name: Fare, dtype: float64)\n",
      "Series([], Name: SibSp, dtype: int64)\n",
      "Series([], Name: Parch, dtype: int64)\n",
      "填充之后再检测：\n",
      "Series([], Name: Age, dtype: float64)\n",
      "Series([], Name: Fare, dtype: float64)\n"
     ]
    }
   ],
   "source": [
    "print '检测是否有缺失值：'\n",
    "print train[train['Age'].isnull()]['Age'].head()\n",
    "print train[train['Fare'].isnull()]['Fare'].head()\n",
    "print train[train['SibSp'].isnull()]['SibSp'].head()\n",
    "print train[train['Parch'].isnull()]['Parch'].head()\n",
    "train['Age'] = train['Age'].fillna(train['Age'].mean())\n",
    "print '填充之后再检测：'\n",
    "print train[train['Age'].isnull()]['Age'].head()\n",
    "print train[train['Fare'].isnull()]['Fare'].head()"
   ]
  },
  {
   "cell_type": "code",
   "execution_count": 10,
   "metadata": {
    "collapsed": false
   },
   "outputs": [
    {
     "name": "stdout",
     "output_type": "stream",
     "text": [
      "检测测试集是否有缺失值：\n",
      "10   NaN\n",
      "22   NaN\n",
      "29   NaN\n",
      "33   NaN\n",
      "36   NaN\n",
      "Name: Age, dtype: float64\n",
      "152   NaN\n",
      "Name: Fare, dtype: float64\n",
      "Series([], Name: SibSp, dtype: int64)\n",
      "Series([], Name: Parch, dtype: int64)\n",
      "填充之后再检测：\n",
      "Series([], Name: Age, dtype: float64)\n",
      "Series([], Name: Fare, dtype: float64)\n"
     ]
    }
   ],
   "source": [
    "print '检测测试集是否有缺失值：'\n",
    "print test[test['Age'].isnull()]['Age'].head()\n",
    "print test[test['Fare'].isnull()]['Fare'].head()\n",
    "print test[test['SibSp'].isnull()]['SibSp'].head()\n",
    "print test[test['Parch'].isnull()]['Parch'].head()\n",
    "test['Age'] = test['Age'].fillna(test['Age'].mean())\n",
    "test['Fare'] = test['Fare'].fillna(test['Fare'].mean())\n",
    "print '填充之后再检测：'\n",
    "print test[test['Age'].isnull()]['Age'].head()\n",
    "print test[test['Fare'].isnull()]['Fare'].head()"
   ]
  },
  {
   "cell_type": "code",
   "execution_count": 11,
   "metadata": {
    "collapsed": true
   },
   "outputs": [],
   "source": [
    "# 处理Title特征\n",
    "train['Title'] = train['Name'].map(lambda x: substrings_in_string(x, title_list))\n",
    "test['Title'] = test['Name'].map(lambda x: substrings_in_string(x, title_list))\n",
    "\n",
    "train['Title'] = train.apply(replace_titles, axis=1)\n",
    "test['Title'] = test.apply(replace_titles, axis=1)\n",
    "\n",
    "# family特征\n",
    "train['Family_Size'] = train['SibSp'] + train['Parch']\n",
    "train['Family'] = train['SibSp'] * train['Parch']\n",
    "test['Family_Size'] = test['SibSp'] + test['Parch']\n",
    "test['Family'] = test['SibSp'] * test['Parch']"
   ]
  },
  {
   "cell_type": "code",
   "execution_count": 12,
   "metadata": {
    "collapsed": false
   },
   "outputs": [],
   "source": [
    "train['AgeFill'] = train['Age']\n",
    "mean_ages = np.zeros(4)\n",
    "mean_ages[0] = np.average(train[train['Title'] == 'Miss']['Age'].dropna())\n",
    "mean_ages[1] = np.average(train[train['Title'] == 'Mrs']['Age'].dropna())\n",
    "mean_ages[2] = np.average(train[train['Title'] == 'Mr']['Age'].dropna())\n",
    "mean_ages[3] = np.average(train[train['Title'] == 'Master']['Age'].dropna())\n",
    "train.loc[ (train.Age.isnull()) & (train.Title == 'Miss') ,'AgeFill'] = mean_ages[0]\n",
    "train.loc[ (train.Age.isnull()) & (train.Title == 'Mrs') ,'AgeFill'] = mean_ages[1]\n",
    "train.loc[ (train.Age.isnull()) & (train.Title == 'Mr') ,'AgeFill'] = mean_ages[2]\n",
    "train.loc[ (train.Age.isnull()) & (train.Title == 'Master') ,'AgeFill'] = mean_ages[3]\n",
    "\n",
    "train['AgeCat'] = train['AgeFill']\n",
    "train.loc[ (train.AgeFill<=10), 'AgeCat'] = 'child'\n",
    "train.loc[ (train.AgeFill>60), 'AgeCat'] = 'aged'\n",
    "train.loc[ (train.AgeFill>10) & (train.AgeFill <=30) ,'AgeCat'] = 'adult'\n",
    "train.loc[ (train.AgeFill>30) & (train.AgeFill <=60) ,'AgeCat'] = 'senior'\n",
    "\n",
    "train['Fare_Per_Person'] = train['Fare'] / (train['Family_Size'] + 1)"
   ]
  },
  {
   "cell_type": "code",
   "execution_count": 13,
   "metadata": {
    "collapsed": true
   },
   "outputs": [],
   "source": [
    "test['AgeFill'] = test['Age']\n",
    "mean_ages = np.zeros(4)\n",
    "mean_ages[0] = np.average(test[test['Title'] == 'Miss']['Age'].dropna())\n",
    "mean_ages[1] = np.average(test[test['Title'] == 'Mrs']['Age'].dropna())\n",
    "mean_ages[2] = np.average(test[test['Title'] == 'Mr']['Age'].dropna())\n",
    "mean_ages[3] = np.average(test[test['Title'] == 'Master']['Age'].dropna())\n",
    "test.loc[ (test.Age.isnull()) & (test.Title == 'Miss') ,'AgeFill'] = mean_ages[0]\n",
    "test.loc[ (test.Age.isnull()) & (test.Title == 'Mrs') ,'AgeFill'] = mean_ages[1]\n",
    "test.loc[ (test.Age.isnull()) & (test.Title == 'Mr') ,'AgeFill'] = mean_ages[2]\n",
    "test.loc[ (test.Age.isnull()) & (test.Title == 'Master') ,'AgeFill'] = mean_ages[3]\n",
    "\n",
    "test['AgeCat'] = test['AgeFill']\n",
    "test.loc[ (test.AgeFill<=10), 'AgeCat'] = 'child'\n",
    "test.loc[ (test.AgeFill>60), 'AgeCat'] = 'aged'\n",
    "test.loc[ (test.AgeFill>10) & (test.AgeFill <=30) ,'AgeCat'] = 'adult'\n",
    "test.loc[ (test.AgeFill>30) & (test.AgeFill <=60) ,'AgeCat'] = 'senior'\n",
    "\n",
    "test['Fare_Per_Person'] = test['Fare'] / (test['Family_Size'] + 1)"
   ]
  },
  {
   "cell_type": "code",
   "execution_count": 14,
   "metadata": {
    "collapsed": true
   },
   "outputs": [],
   "source": [
    "train.Embarked = train.Embarked.fillna('S')\n",
    "test.Embarked = test.Embarked.fillna('S')\n",
    "\n",
    "train.loc[ train.Cabin.isnull() == True, 'Cabin'] = 0.2\n",
    "train.loc[ train.Cabin.isnull() == False, 'Cabin'] = 1\n",
    "\n",
    "test.loc[ test.Cabin.isnull() == True, 'Cabin'] = 0.2\n",
    "test.loc[ test.Cabin.isnull() == False, 'Cabin'] = 1"
   ]
  },
  {
   "cell_type": "code",
   "execution_count": 15,
   "metadata": {
    "collapsed": true
   },
   "outputs": [],
   "source": [
    "#Age times class\n",
    "train['AgeClass'] = train['AgeFill'] * train['Pclass']\n",
    "train['ClassFare'] = train['Pclass'] * train['Fare_Per_Person']\n",
    "\n",
    "train['HighLow'] = train['Pclass']\n",
    "train.loc[ (train.Fare_Per_Person < 8) ,'HighLow'] = 'Low'\n",
    "train.loc[ (train.Fare_Per_Person >= 8) ,'HighLow'] = 'High'\n",
    "\n",
    "#Age times class\n",
    "test['AgeClass'] = test['AgeFill'] * test['Pclass']\n",
    "test['ClassFare'] = test['Pclass'] * test['Fare_Per_Person']\n",
    "\n",
    "test['HighLow'] = test['Pclass']\n",
    "test.loc[ (test.Fare_Per_Person < 8) ,'HighLow'] = 'Low'\n",
    "test.loc[ (test.Fare_Per_Person >= 8) ,'HighLow'] = 'High'"
   ]
  },
  {
   "cell_type": "code",
   "execution_count": 16,
   "metadata": {
    "collapsed": false
   },
   "outputs": [
    {
     "name": "stdout",
     "output_type": "stream",
     "text": [
      "   PassengerId  Survived  Pclass                     Name   Sex   Age  SibSp  \\\n",
      "0            1         0       3  Braund, Mr. Owen Harris  male  22.0      1   \n",
      "\n",
      "   Parch     Ticket  Fare   ...    Embarked Title Family_Size  Family  \\\n",
      "0      0  A/5 21171  7.25   ...           S    Mr           1       0   \n",
      "\n",
      "   AgeFill  AgeCat Fare_Per_Person  AgeClass  ClassFare  HighLow  \n",
      "0     22.0   adult           3.625      66.0     10.875      Low  \n",
      "\n",
      "[1 rows x 21 columns]\n"
     ]
    }
   ],
   "source": [
    "print train.head(1)\n",
    "# print test.head()"
   ]
  },
  {
   "cell_type": "markdown",
   "metadata": {},
   "source": [
    "## 特征工程"
   ]
  },
  {
   "cell_type": "code",
   "execution_count": 17,
   "metadata": {
    "collapsed": false
   },
   "outputs": [
    {
     "name": "stdout",
     "output_type": "stream",
     "text": [
      "     1    2    3  female  male    C    Q    S  Master  Miss    ...      \\\n",
      "0  0.0  0.0  1.0     0.0   1.0  0.0  0.0  1.0     0.0   0.0    ...       \n",
      "1  1.0  0.0  0.0     1.0   0.0  1.0  0.0  0.0     0.0   0.0    ...       \n",
      "2  0.0  0.0  1.0     1.0   0.0  0.0  0.0  1.0     0.0   1.0    ...       \n",
      "3  1.0  0.0  0.0     1.0   0.0  0.0  0.0  1.0     0.0   0.0    ...       \n",
      "4  0.0  0.0  1.0     0.0   1.0  0.0  0.0  1.0     0.0   0.0    ...       \n",
      "\n",
      "       Fare     SibSp     Parch  Family_Size    Family   AgeFill  \\\n",
      "0 -0.048707  0.059624 -0.063599      0.00954 -0.035494 -0.096747   \n",
      "1  0.076277  0.059624 -0.063599      0.00954 -0.035494  0.104309   \n",
      "2 -0.047390 -0.065376 -0.063599     -0.09046 -0.035494 -0.046483   \n",
      "3  0.040786  0.059624 -0.063599      0.00954 -0.035494  0.066611   \n",
      "4 -0.047146 -0.065376 -0.063599     -0.09046 -0.035494  0.066611   \n",
      "\n",
      "   Fare_Per_Person  Cabin  AgeClass  ClassFare  \n",
      "0        -0.031799      1  0.004673  -0.040180  \n",
      "1         0.030694      1 -0.121978   0.008161  \n",
      "2        -0.023406      1  0.058952  -0.015001  \n",
      "3         0.012948      1 -0.135547  -0.009584  \n",
      "4        -0.023162      1  0.181080  -0.014269  \n",
      "\n",
      "[5 rows x 29 columns]\n",
      "     1    2    3  female  male    C    Q    S  Master  Miss    ...      \\\n",
      "0  0.0  0.0  1.0     0.0   1.0  0.0  1.0  0.0     0.0   0.0    ...       \n",
      "1  0.0  0.0  1.0     1.0   0.0  0.0  0.0  1.0     0.0   0.0    ...       \n",
      "2  0.0  1.0  0.0     0.0   1.0  0.0  1.0  0.0     0.0   0.0    ...       \n",
      "3  0.0  0.0  1.0     0.0   1.0  0.0  0.0  1.0     0.0   0.0    ...       \n",
      "4  0.0  0.0  1.0     1.0   0.0  0.0  0.0  1.0     0.0   0.0    ...       \n",
      "\n",
      "       Fare     SibSp     Parch  Family_Size    Family   AgeFill  \\\n",
      "0 -0.054258 -0.055921 -0.043594    -0.083971 -0.027811  0.055749   \n",
      "1 -0.055877  0.069079 -0.043594     0.016029 -0.027811  0.220591   \n",
      "2 -0.050631 -0.055921 -0.043594    -0.083971 -0.027811  0.418402   \n",
      "3 -0.052632 -0.055921 -0.043594    -0.083971 -0.027811 -0.043157   \n",
      "4 -0.045556  0.069079  0.067517     0.116029  0.034689 -0.109094   \n",
      "\n",
      "   Fare_Per_Person  Cabin  AgeClass  ClassFare  \n",
      "0        -0.053389      1  0.218758  -0.037167  \n",
      "1        -0.069889      1  0.425952  -0.086667  \n",
      "2        -0.046307      1  0.332024  -0.052842  \n",
      "3        -0.050213      1  0.094442  -0.027639  \n",
      "4        -0.067618      1  0.011564  -0.079855  \n",
      "\n",
      "[5 rows x 29 columns]\n"
     ]
    }
   ],
   "source": [
    "# 处理训练集\n",
    "Pclass = pd.get_dummies(train.Pclass)\n",
    "Sex = pd.get_dummies(train.Sex)\n",
    "Embarked = pd.get_dummies(train.Embarked)\n",
    "Title = pd.get_dummies(train.Title)\n",
    "AgeCat = pd.get_dummies(train.AgeCat)\n",
    "HighLow = pd.get_dummies(train.HighLow)\n",
    "train_data = pd.concat([Pclass, Sex, Embarked, Title, AgeCat, HighLow], axis=1)\n",
    "train_data['Age'] = train['Age']\n",
    "train_data['Fare'] = train['Fare']\n",
    "train_data['SibSp'] = train['SibSp']\n",
    "train_data['Parch'] = train['Parch']\n",
    "train_data['Family_Size'] = train['Family_Size']\n",
    "train_data['Family'] = train['Family']\n",
    "train_data['AgeFill'] = train['AgeFill']\n",
    "train_data['Fare_Per_Person'] = train['Fare_Per_Person']\n",
    "train_data['Cabin'] = train['Cabin']\n",
    "train_data['AgeClass'] = train['AgeClass']\n",
    "train_data['ClassFare'] = train['ClassFare']\n",
    "\n",
    "cols = ['Age', 'Fare', 'SibSp', 'Parch', 'Family_Size', 'Family', 'AgeFill', 'Fare_Per_Person', 'AgeClass', 'ClassFare']\n",
    "train_data[cols] = train_data[cols].apply(lambda x: (x - np.mean(x)) / (np.max(x) - np.min(x)))\n",
    "print train_data.head()\n",
    "\n",
    "# 处理测试集\n",
    "Pclass = pd.get_dummies(test.Pclass)\n",
    "Sex = pd.get_dummies(test.Sex)\n",
    "Embarked = pd.get_dummies(test.Embarked)\n",
    "Title = pd.get_dummies(test.Title)\n",
    "AgeCat = pd.get_dummies(test.AgeCat)\n",
    "HighLow = pd.get_dummies(test.HighLow)\n",
    "test_data = pd.concat([Pclass, Sex, Embarked, Title, AgeCat, HighLow], axis=1)\n",
    "test_data['Age'] = test['Age']\n",
    "test_data['Fare'] = test['Fare']\n",
    "test_data['SibSp'] = test['SibSp']\n",
    "test_data['Parch'] = test['Parch']\n",
    "test_data['Family_Size'] = test['Family_Size']\n",
    "test_data['Family'] = test['Family']\n",
    "test_data['AgeFill'] = test['AgeFill']\n",
    "test_data['Fare_Per_Person'] = test['Fare_Per_Person']\n",
    "test_data['Cabin'] = test['Cabin']\n",
    "test_data['AgeClass'] = test['AgeClass']\n",
    "test_data['ClassFare'] = test['ClassFare']\n",
    "\n",
    "test_data[cols] = test_data[cols].apply(lambda x: (x - np.mean(x)) / (np.max(x) - np.min(x)))\n",
    "print test_data.head()"
   ]
  },
  {
   "cell_type": "markdown",
   "metadata": {},
   "source": [
    "## 模型训练"
   ]
  },
  {
   "cell_type": "code",
   "execution_count": 18,
   "metadata": {
    "collapsed": true
   },
   "outputs": [],
   "source": [
    "from sklearn.linear_model import LogisticRegression as LR\n",
    "from sklearn.cross_validation import cross_val_score\n",
    "from sklearn.naive_bayes import GaussianNB as GNB\n",
    "from sklearn.ensemble import RandomForestClassifier\n",
    "\n",
    "import numpy as np"
   ]
  },
  {
   "cell_type": "markdown",
   "metadata": {},
   "source": [
    "### 逻辑回归"
   ]
  },
  {
   "cell_type": "code",
   "execution_count": 19,
   "metadata": {
    "collapsed": false,
    "scrolled": true
   },
   "outputs": [
    {
     "name": "stdout",
     "output_type": "stream",
     "text": [
      "逻辑回归10折交叉验证得分:  0.871878335172\n"
     ]
    }
   ],
   "source": [
    "model_lr = LR(penalty = 'l2', dual = True, random_state = 0)\n",
    "model_lr.fit(train_data, label)\n",
    "print \"逻辑回归10折交叉验证得分: \", np.mean(cross_val_score(model_lr, train_data, label, cv=10, scoring='roc_auc'))\n",
    "\n",
    "result = model_lr.predict( test_data )\n",
    "output = pd.DataFrame( data={\"PassengerId\":test[\"PassengerId\"], \"Survived\":result} )\n",
    "output.to_csv( \"lr.csv\", index=False, quoting=3 )"
   ]
  },
  {
   "cell_type": "markdown",
   "metadata": {},
   "source": [
    "#### 提交kaggle后准确率：0.78469"
   ]
  },
  {
   "cell_type": "markdown",
   "metadata": {},
   "source": [
    "### 高斯贝叶斯"
   ]
  },
  {
   "cell_type": "code",
   "execution_count": 20,
   "metadata": {
    "collapsed": false
   },
   "outputs": [
    {
     "name": "stdout",
     "output_type": "stream",
     "text": [
      "高斯贝叶斯分类器10折交叉验证得分:  0.857323798206\n"
     ]
    }
   ],
   "source": [
    "model_GNB = GNB()\n",
    "model_GNB.fit(train_data, label)\n",
    "print \"高斯贝叶斯分类器10折交叉验证得分: \", np.mean(cross_val_score(model_GNB, train_data, label, cv=10, scoring='roc_auc'))\n",
    "\n",
    "result = model_GNB.predict( test_data )\n",
    "output = pd.DataFrame( data={\"PassengerId\":test[\"PassengerId\"], \"Survived\":result} )\n",
    "output.to_csv( \"gnb.csv\", index=False, quoting=3 )"
   ]
  },
  {
   "cell_type": "markdown",
   "metadata": {},
   "source": [
    "#### 提交kaggle后准确率：0.74163"
   ]
  },
  {
   "cell_type": "markdown",
   "metadata": {},
   "source": [
    "### 随机森林"
   ]
  },
  {
   "cell_type": "code",
   "execution_count": 21,
   "metadata": {
    "collapsed": false
   },
   "outputs": [
    {
     "name": "stdout",
     "output_type": "stream",
     "text": [
      "CPU times: user 1.34 s, sys: 208 ms, total: 1.55 s\n",
      "Wall time: 1.17 s\n",
      "随机森林分类器10折交叉验证得分:  0.870820473644\n"
     ]
    }
   ],
   "source": [
    "forest = RandomForestClassifier( n_estimators=500, criterion='entropy', max_depth=5, min_samples_split=1,\n",
    "  min_samples_leaf=1, max_features='auto', bootstrap=False, oob_score=False, n_jobs=4,\n",
    "  verbose=0)\n",
    "\n",
    "%time forest = forest.fit( train_data, label )\n",
    "print \"随机森林分类器10折交叉验证得分: \", np.mean(cross_val_score(forest, train_data, label, cv=10, scoring='roc_auc'))\n",
    "\n",
    "result = forest.predict( test_data )\n",
    "output = pd.DataFrame( data={\"PassengerId\":test[\"PassengerId\"], \"Survived\":result} )\n",
    "output.to_csv( \"rf.csv\", index=False, quoting=3 )"
   ]
  },
  {
   "cell_type": "markdown",
   "metadata": {},
   "source": [
    "#### 提交kaggle后准确率：0.76555"
   ]
  },
  {
   "cell_type": "markdown",
   "metadata": {},
   "source": [
    "--------\n",
    "\n",
    "## 寻找最佳参数"
   ]
  },
  {
   "cell_type": "code",
   "execution_count": 22,
   "metadata": {
    "collapsed": false
   },
   "outputs": [
    {
     "name": "stdout",
     "output_type": "stream",
     "text": [
      "Fitting 10 folds for each of 1 candidates, totalling 10 fits\n",
      "[CV]  ................................................................\n",
      "[CV] ....................................... , score=0.849162 -   1.7s\n",
      "[CV]  ................................................................\n",
      "[CV] ....................................... , score=0.843575 -   1.5s\n",
      "[CV]  ................................................................\n",
      "[CV] ....................................... , score=0.804469 -   1.4s\n",
      "[CV]  ................................................................\n",
      "[CV] ....................................... , score=0.804469 -   1.9s\n",
      "[CV]  ................................................................\n",
      "[CV] ....................................... , score=0.871508 -   2.1s\n",
      "[CV]  ................................................................\n",
      "[CV] ....................................... , score=0.865922 -   1.9s\n",
      "[CV]  ................................................................\n",
      "[CV] ....................................... , score=0.854749 -   1.8s\n",
      "[CV]  ................................................................\n",
      "[CV] ....................................... , score=0.860335 -   1.7s\n",
      "[CV]  ................................................................\n",
      "[CV] ....................................... , score=0.843575 -   1.6s\n",
      "[CV]  ................................................................\n",
      "[CV] ....................................... , score=0.826816 -   1.5s\n"
     ]
    },
    {
     "name": "stderr",
     "output_type": "stream",
     "text": [
      "[Parallel(n_jobs=1)]: Done  10 out of  10 | elapsed:   17.1s finished\n"
     ]
    },
    {
     "name": "stdout",
     "output_type": "stream",
     "text": [
      "Best score: 0.842\n"
     ]
    }
   ],
   "source": [
    "from sklearn.pipeline import Pipeline\n",
    "from sklearn.grid_search import GridSearchCV\n",
    "from sklearn.cross_validation import train_test_split,StratifiedShuffleSplit,StratifiedKFold\n",
    "param_grid = dict( )\n",
    "\n",
    "pipeline=Pipeline([ ('clf', forest) ])\n",
    "grid_search = GridSearchCV(pipeline, param_grid=param_grid, verbose=3, scoring='accuracy',\n",
    "cv=StratifiedShuffleSplit(label, n_iter=10, test_size=0.2, train_size=None)).fit(train_data, label)\n",
    "\n",
    "print(\"Best score: %0.3f\" % grid_search.best_score_)"
   ]
  }
 ],
 "metadata": {
  "kernelspec": {
   "display_name": "Python 2",
   "language": "python",
   "name": "python2"
  },
  "language_info": {
   "codemirror_mode": {
    "name": "ipython",
    "version": 2
   },
   "file_extension": ".py",
   "mimetype": "text/x-python",
   "name": "python",
   "nbconvert_exporter": "python",
   "pygments_lexer": "ipython2",
   "version": "2.7.10"
  }
 },
 "nbformat": 4,
 "nbformat_minor": 0
}
